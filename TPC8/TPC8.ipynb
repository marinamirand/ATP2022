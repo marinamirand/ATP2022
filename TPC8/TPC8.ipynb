{
 "cells": [
  {
   "cell_type": "markdown",
   "id": "1e545158",
   "metadata": {},
   "source": [
    "# Aula Prática 8 (guião)\n",
    "### Semana de 7 de Novembro a 11 de Novembro de 2022\n",
    "### José Carlos Ramalho e Luís Cunha\n",
    "### Sinopsis:\n",
    "Consolidação e aferição de tudo o que foi feito até ao momento. "
   ]
  },
  {
   "cell_type": "markdown",
   "id": "9b9b5140-2b81-435e-9fc0-324437a7b453",
   "metadata": {},
   "source": [
    "### Assunto: Frações\n",
    "Vamos pensar num modelo: o que é uma fração estruturalmente?"
   ]
  },
  {
   "cell_type": "code",
   "execution_count": 1,
   "id": "5a6da5eb",
   "metadata": {},
   "outputs": [],
   "source": [
    "# Modelo duma fração\n",
    "#Fracao = (numerador,denominador)\n",
    "\n",
    "\n",
    "# Modelo duma lista de frações\n",
    "#listaFrac= [Fracao]\n"
   ]
  },
  {
   "cell_type": "markdown",
   "id": "d477052b-e074-4a5d-ac12-85c2286a1e5f",
   "metadata": {},
   "source": [
    "### Construtor"
   ]
  },
  {
   "cell_type": "code",
   "execution_count": 2,
   "id": "33d1c7e9-22af-4473-9b21-3e7ce0fcf571",
   "metadata": {},
   "outputs": [],
   "source": [
    "def criarFracao(numerador, denominador):\n",
    "    return (numerador,denominador)\n",
    "\n",
    "def verFracao(f):\n",
    "    print(str(f[0]) + \"/\" + str(f[1]), end= \"\")\n",
    "    return"
   ]
  },
  {
   "cell_type": "code",
   "execution_count": 3,
   "id": "d46df3ff",
   "metadata": {},
   "outputs": [
    {
     "name": "stdout",
     "output_type": "stream",
     "text": [
      "2/3"
     ]
    }
   ],
   "source": [
    "f1 = criarFracao(2,3)\n",
    "verFracao(f1)\n",
    "# criarFracao(2,3)\n",
    " #verFracao(criarFracao(2,3))"
   ]
  },
  {
   "cell_type": "code",
   "execution_count": 4,
   "id": "cb94da23",
   "metadata": {},
   "outputs": [
    {
     "ename": "NameError",
     "evalue": "name 'lista' is not defined",
     "output_type": "error",
     "traceback": [
      "\u001b[1;31m---------------------------------------------------------------------------\u001b[0m",
      "\u001b[1;31mNameError\u001b[0m                                 Traceback (most recent call last)",
      "Cell \u001b[1;32mIn [4], line 6\u001b[0m\n\u001b[0;32m      4\u001b[0m \u001b[39mfor\u001b[39;00m denominador \u001b[39min\u001b[39;00m \u001b[39mrange\u001b[39m (\u001b[39m2\u001b[39m,\u001b[39m21\u001b[39m):\n\u001b[0;32m      5\u001b[0m     listaF1\u001b[39m.\u001b[39mappend((numerador,denominador))\n\u001b[1;32m----> 6\u001b[0m     \u001b[39mfor\u001b[39;00m fracao \u001b[39min\u001b[39;00m lista:\n\u001b[0;32m      7\u001b[0m         verFracao(fracao)\n\u001b[0;32m      9\u001b[0m \u001b[39m#listaF1 = [(1,denominador)for denominador in range(2,21)]\u001b[39;00m\n",
      "\u001b[1;31mNameError\u001b[0m: name 'lista' is not defined"
     ]
    }
   ],
   "source": [
    "#criar lista com fracoes com numerador=1 e denominador a variar de 2 a 20\n",
    "numerador = 1\n",
    "listaF1 = []\n",
    "for denominador in range (2,21):\n",
    "    listaF1.append((numerador,denominador))\n",
    "    for fracao in lista:\n",
    "        verFracao(fracao)\n",
    "\n",
    "#listaF1 = [(1,denominador)for denominador in range(2,21)]\n"
   ]
  },
  {
   "cell_type": "code",
   "execution_count": null,
   "id": "712010dc",
   "metadata": {},
   "outputs": [],
   "source": [
    "def verlistaF(lista):\n",
    "    for fracao in lista:\n",
    "        verFracao(fracao)\n",
    "listaF1= [(1,denominador)for denominador in range(2,21)]\n",
    "verlistaF(listaF1)\n"
   ]
  },
  {
   "cell_type": "markdown",
   "id": "f7cd0ff1",
   "metadata": {},
   "source": [
    "### Simplificação de frações"
   ]
  },
  {
   "cell_type": "code",
   "execution_count": null,
   "id": "8b0fa08f",
   "metadata": {},
   "outputs": [],
   "source": [
    "def simplificarFracao(f):\n",
    "    numerador = f[0]    \n",
    "    denominador = f[1]\n",
    "    for i in range(2,denominador+1):\n",
    "        if numerador%i == 0 and denominador%i == 0:\n",
    "            numerador = numerador/i\n",
    "            denominador = denominador/i  \n",
    "            print(str(numerador) + \"/\" + str(denominador), end= \"\")\n",
    "        \n",
    "\n"
   ]
  },
  {
   "cell_type": "code",
   "execution_count": null,
   "id": "8821d031",
   "metadata": {},
   "outputs": [],
   "source": [
    "verFracao(simplificarFracao(criarFracao(2, 4)))"
   ]
  },
  {
   "cell_type": "markdown",
   "id": "d52f012f",
   "metadata": {},
   "source": [
    "## Operações sobre frações"
   ]
  },
  {
   "cell_type": "code",
   "execution_count": null,
   "id": "96ba280b",
   "metadata": {},
   "outputs": [
    {
     "name": "stdout",
     "output_type": "stream",
     "text": [
      "29/21"
     ]
    }
   ],
   "source": [
    "def somarFrac(f1, f2):\n",
    "    numerador = f1[0]*f2[1] + f2[0]*f1[1]\n",
    "    denominador = f1[1]*f2[1]\n",
    "    return (numerador, denominador)\n",
    "\n",
    "   \n",
    "\n",
    "f2 = criarFracao(5,7)\n",
    "verFracao(somarFrac(f1,f2))"
   ]
  },
  {
   "cell_type": "code",
   "execution_count": null,
   "id": "a0198bce",
   "metadata": {},
   "outputs": [
    {
     "name": "stdout",
     "output_type": "stream",
     "text": [
      "[(6, 13), (6, 14), (7, 6), (6, 7), (5, 11), (5, 5), (1, 16), (4, 6), (6, 8), (7, 11), (5, 10), (6, 5), (6, 5), (4, 2), (4, 12), (4, 5), (3, 2), (8, 17), (2, 6)]\n"
     ]
    }
   ],
   "source": [
    "listaFrac = [f1, f2, criarFracao(125,1000), (8,12)]\n",
    "listaFrac2 = []\n",
    "import random\n",
    "for i in range(1,20):\n",
    "    n = random.randrange(1, 10)\n",
    "    d = random.randrange(2, 20)\n",
    "    listaFrac2.append(criarFracao(n,d))\n",
    "print(listaFrac2)"
   ]
  },
  {
   "cell_type": "markdown",
   "id": "e83e4eae",
   "metadata": {},
   "source": [
    "### Soma uma lista de frações"
   ]
  },
  {
   "cell_type": "code",
   "execution_count": null,
   "id": "402d83f0",
   "metadata": {},
   "outputs": [],
   "source": [
    "def somarListaFrac(lista):\n",
    "    res = lista[0]\n",
    "    for f in lista[1:]:\n",
    "        res= somarFrac(res,f)\n",
    "    return res\n",
    "    \n",
    "   "
   ]
  },
  {
   "cell_type": "code",
   "execution_count": null,
   "id": "ec1ff8bb",
   "metadata": {},
   "outputs": [
    {
     "ename": "NameError",
     "evalue": "name 'listaFrac2' is not defined",
     "output_type": "error",
     "traceback": [
      "\u001b[1;31m---------------------------------------------------------------------------\u001b[0m",
      "\u001b[1;31mNameError\u001b[0m                                 Traceback (most recent call last)",
      "Cell \u001b[1;32mIn [53], line 1\u001b[0m\n\u001b[1;32m----> 1\u001b[0m verFracao(somarListaFrac(listaFrac2))\n",
      "\u001b[1;31mNameError\u001b[0m: name 'listaFrac2' is not defined"
     ]
    }
   ],
   "source": [
    "verFracao(somarListaFrac(listaFrac2))"
   ]
  },
  {
   "cell_type": "markdown",
   "id": "a88929cc",
   "metadata": {},
   "source": [
    "### Multiplica 2 frações"
   ]
  },
  {
   "cell_type": "code",
   "execution_count": null,
   "id": "519c5358",
   "metadata": {},
   "outputs": [
    {
     "name": "stdout",
     "output_type": "stream",
     "text": [
      "29/21"
     ]
    }
   ],
   "source": [
    "def multFrac(f1, f2):\n",
    "    numerador = f1[0]*f2[0]\n",
    "    denominador = f1[1]*f2[1]\n",
    "    return(numerador,denominador)\n"
   ]
  },
  {
   "cell_type": "markdown",
   "id": "fcd5b5d6",
   "metadata": {},
   "source": [
    "### Guardar uma lista de frações num ficheiro"
   ]
  },
  {
   "cell_type": "code",
   "execution_count": null,
   "id": "2840f9b2",
   "metadata": {},
   "outputs": [],
   "source": [
    "def gravaListaFrac(fnome,listaF):\n",
    "    f=open(fnome,\"w\")\n",
    "    for fracao in listaF:\n",
    "        f.write(str(fracao[0]) +'/' + str(fracao[1]) + '\\n')\n",
    "    f.close()\n",
    "    return "
   ]
  },
  {
   "cell_type": "code",
   "execution_count": null,
   "id": "e03b0729",
   "metadata": {},
   "outputs": [],
   "source": [
    "gravaListaFrac(\"fracoes.txt\",listaFrac2)"
   ]
  },
  {
   "cell_type": "markdown",
   "id": "0664fcdc",
   "metadata": {},
   "source": [
    "### Recuperar uma lista de frações dum ficheiro"
   ]
  },
  {
   "cell_type": "code",
   "execution_count": null,
   "id": "82aece6e",
   "metadata": {},
   "outputs": [],
   "source": [
    "def carregaListaFrac(fnome):\n",
    "    f=open(fnome,\"r\")\n",
    "    listaRes = []\n",
    "    for linha in f:\n",
    "        partes = linha[:-1].split('/')\n",
    "        listaRes.append((int(partes[0]), int(partes[1])))\n",
    "    # ???\n",
    "\n",
    "    \n",
    "    \n",
    "    return listaRes"
   ]
  },
  {
   "cell_type": "code",
   "execution_count": null,
   "id": "a54c4b92",
   "metadata": {},
   "outputs": [],
   "source": [
    "listaFrac3= carregaListaFrac(\"fracoes.txt\")\n",
    "verlistaF(listaFrac3)"
   ]
  },
  {
   "cell_type": "markdown",
   "id": "4193a91b",
   "metadata": {},
   "source": [
    "### TPC8: Teste de aferição\n",
    "\n",
    "Resolva os problemas apresentados a seguir."
   ]
  },
  {
   "cell_type": "markdown",
   "id": "4e758271",
   "metadata": {},
   "source": [
    "### tpc1.a) Recebe duas strings, _s1_ e _s2_, e retorna o comprimento da substring inicial de _s1_ que não contem nenhum caráter de _s2_:"
   ]
  },
  {
   "cell_type": "code",
   "execution_count": 6,
   "id": "4ae7f5d0",
   "metadata": {},
   "outputs": [
    {
     "data": {
      "text/plain": [
       "13"
      ]
     },
     "execution_count": 6,
     "metadata": {},
     "output_type": "execute_result"
    }
   ],
   "source": [
    "# Recebe duas strings, _s1_ e _s2_, e retorna o comprimento da substring inicial de _s1_ que não contem nenhum caráter de _s2_:\n",
    "def inicDiferente(s1, s2):\n",
    "    res = 0\n",
    "    for c in s1:\n",
    "        if c in s2:\n",
    "            break\n",
    "        res = res + 1\n",
    "    return res\n",
    "\n",
    "inicDiferente(\"Está um bom dia...\", \"Hoje é um dia alegre.\")\n",
    "# resultado esperado: 4"
   ]
  },
  {
   "cell_type": "markdown",
   "id": "28cb3dc4",
   "metadata": {},
   "source": [
    "### tpc1.b) Recebe um parâmetro _n_ e lê _n_ números inteiros; no fim retorna quantos dos números lidos são superiores à média dos números lidos:"
   ]
  },
  {
   "cell_type": "code",
   "execution_count": 8,
   "id": "4458c7bc",
   "metadata": {},
   "outputs": [
    {
     "data": {
      "text/plain": [
       "4"
      ]
     },
     "execution_count": 8,
     "metadata": {},
     "output_type": "execute_result"
    }
   ],
   "source": [
    "# Recebe um parâmetro _n_ e lê _n_ números inteiros; no fim retorna quantos dos números lidos são superiores à média dos números lidos:\n",
    "def acimaMedia(n):\n",
    "    res = 0\n",
    "    soma = 0\n",
    "    for i in range(n):\n",
    "        num = n\n",
    "        soma = soma + num\n",
    "        media = soma/n\n",
    "        if num > media:\n",
    "            res = res + 1\n",
    "    return res\n",
    "\n",
    "acimaMedia(5)"
   ]
  },
  {
   "cell_type": "markdown",
   "id": "e6db31d7",
   "metadata": {},
   "source": [
    "### tpc1.c) Faz o merge de duas listas ordenadas, retornando uma lista ordenada com os elementos das duas listas (__não podes usar nenhuma função de ordenação do Python__):"
   ]
  },
  {
   "cell_type": "code",
   "execution_count": 9,
   "id": "2b5ad344",
   "metadata": {},
   "outputs": [
    {
     "data": {
      "text/plain": [
       "[1, 2, 3, 4, 6, 7, 9, 12]"
      ]
     },
     "execution_count": 9,
     "metadata": {},
     "output_type": "execute_result"
    }
   ],
   "source": [
    "# Faz o merge de duas listas ordenadas, retornando uma lista ordenada com os elementos das duas listas (__não podes usar nenhuma função de ordenação do Python__):\n",
    "def merge(l1, l2):\n",
    "        res = []\n",
    "        while len(l1) > 0 and len(l2) > 0:\n",
    "                if l1[0] < l2[0]:\n",
    "                        res.append(l1[0])\n",
    "                        l1 = l1[1:]\n",
    "                else:\n",
    "                        res.append(l2[0])\n",
    "                        l2 = l2[1:]\n",
    "        res = res + l1 + l2\n",
    "        return res\n",
    "    \n",
    "merge([1,2,6,9], [3,4,7,12])\n",
    "# Resultado esperado: [1,2,3,4,6,7,9,12]"
   ]
  },
  {
   "cell_type": "markdown",
   "id": "6698b337",
   "metadata": {},
   "source": [
    "### tpc1.d) Recebe o nome de dois ficheiros de texto, _f1_ e _f2_, e indica se são iguais (__True__) no seu conteúdo ou se são diferentes (__False__):"
   ]
  },
  {
   "cell_type": "code",
   "execution_count": null,
   "id": "54cef309",
   "metadata": {},
   "outputs": [],
   "source": [
    "# Recebe o nome de dois ficheiros de texto, _f1_ e _f2_, e indica se são iguais (__True__) no seu conteúdo ou se são diferentes (__False__):\n",
    "def figuais(f1, f2):\n",
    "    f1 = open(f1, \"r\")\n",
    "    f2 = open(f2, \"r\")\n",
    "    for linha1 in f1:\n",
    "        for linha2 in f2:\n",
    "            if linha1 != linha2:\n",
    "                return False\n",
    "    return True\n",
    "\n",
    "#print(figuais(\"texto1.txt\", \"texto1.txt\"))\n",
    "#print(figuais(\"texto1.txt\", \"texto2.txt\"))"
   ]
  },
  {
   "cell_type": "markdown",
   "id": "7cd572fc",
   "metadata": {},
   "source": [
    "## Questão 2: Gestão de uma Cinemateca\n",
    "\n",
    "Analise as seguintes estruturas de dados que materializam o modelo de uma cinemateca:"
   ]
  },
  {
   "cell_type": "code",
   "execution_count": 10,
   "id": "76e9e621",
   "metadata": {},
   "outputs": [],
   "source": [
    "# Cinemateca = [Filme]\n",
    "# Pub = (Título, Ano, Elenco, Géneros)\n",
    "# Título = String\n",
    "# Ano = Int\n",
    "# Elenco = [Ator]\n",
    "# Ator = String\n",
    "# Géneros = [Género]\n",
    "# Género = String\n",
    "Filme1 = (\"Meet the Parents\", 2000, [\"Ben Stiller\",\"Robert De Niro\",\n",
    "      \"Blythe Danner\",\"Teri Polo\",\"Owen Wilson\"], [\"Comedy\", \"Drama\"])\n",
    "Filme2 = (\"Men of Honor\", 2000, [\"Robert De Niro\",\"Cuba Gooding, Jr.\",\n",
    "      \"Charlize Theron\"], [\"Biography\", \"Drama\", \"Thriller\"])\n",
    "Filme3 = (\"Analyze That\", 2002, [\"Robert De Niro\",\"Billy Crystal\",\n",
    "      \"Lisa Kudrow\"], [\"Comedy\"])\n",
    "CineUM = [Filme1, Filme2, Filme3]"
   ]
  },
  {
   "cell_type": "markdown",
   "id": "89afc758",
   "metadata": {},
   "source": [
    " e especifique funções que calculem o que se descreve a seguir:"
   ]
  },
  {
   "cell_type": "markdown",
   "id": "2156a0c8",
   "metadata": {},
   "source": [
    "### tpc2.a)  Devolve uma lista dos atores participantes nos filmes armazenados, ordenada alfabeticamente e sem repetições:"
   ]
  },
  {
   "cell_type": "code",
   "execution_count": 11,
   "id": "8a5a2a41",
   "metadata": {},
   "outputs": [
    {
     "name": "stdout",
     "output_type": "stream",
     "text": [
      "['Ben Stiller', 'Billy Crystal', 'Blythe Danner', 'Charlize Theron', 'Cuba Gooding, Jr.', 'Lisa Kudrow', 'Owen Wilson', 'Robert De Niro', 'Teri Polo']\n"
     ]
    }
   ],
   "source": [
    "# Devolve uma lista dos atores participantes nos filmes armazenados, ordenada alfabeticamente e sem repetições:\n",
    "def atores(cinemateca):\n",
    "    res = []\n",
    "    for filme in cinemateca:\n",
    "        for ator in filme[2]:\n",
    "            if ator not in res:\n",
    "                res.append(ator)\n",
    "    return sorted(res)\n",
    "\n",
    "print(atores(CineUM))\n",
    "# Resultado esperado: ['Ben Stiller', 'Billy Crystal', 'Blythe Danner', 'Charlize Theron', 'Cuba Gooding, Jr.', 'Lisa Kudrow', 'Owen Wilson', 'Robert De Niro', 'Teri Polo']"
   ]
  },
  {
   "cell_type": "markdown",
   "id": "12f9126b",
   "metadata": {},
   "source": [
    "### tpc2.b)  Devolve uma lista de todos os títulos dos filmes, em ordem alfabética, e de um determinado género passado como argumento:"
   ]
  },
  {
   "cell_type": "code",
   "execution_count": 12,
   "id": "d9dfe30a",
   "metadata": {},
   "outputs": [
    {
     "name": "stdout",
     "output_type": "stream",
     "text": [
      "['Analyze That', 'Meet the Parents']\n"
     ]
    }
   ],
   "source": [
    "# Devolve uma lista de todos os títulos dos filmes, em ordem alfabética, e de um determinado género passado como argumento:\n",
    "def listarPorGenero(cinemateca, genero):\n",
    "    res = []\n",
    "    for filme in cinemateca:\n",
    "        if genero in filme[3]:\n",
    "            res.append(filme[0])\n",
    "    return sorted(res)\n",
    "\n",
    "print(listarPorGenero(CineUM, \"Comedy\"))\n",
    "# Resultado esperado: ['Analyze That', 'Meet the Parents']"
   ]
  },
  {
   "cell_type": "markdown",
   "id": "1a0f760b",
   "metadata": {},
   "source": [
    "### tpc2.c)  Devolve o título do filme com o maior elenco:"
   ]
  },
  {
   "cell_type": "code",
   "execution_count": null,
   "id": "a00c85e3",
   "metadata": {},
   "outputs": [],
   "source": [
    "# Devolve o título do filme com o maior elenco:\n",
    "def maiorElenco( cinemateca ):\n",
    "    res = \"\"\n",
    "    maior = 0\n",
    "    for filme in cinemateca:\n",
    "        if len(filme[2]) > maior:\n",
    "            maior = len(filme[2])\n",
    "            res = filme[0]\n",
    "    return res\n",
    "\n",
    "print(maiorElenco(CineUM))\n",
    "# Resultado esperado: Meet the Parents"
   ]
  },
  {
   "cell_type": "markdown",
   "id": "65061d0a",
   "metadata": {},
   "source": [
    "### tpc2.d)  Calcula a distribuição de filmes por Género:"
   ]
  },
  {
   "cell_type": "code",
   "execution_count": 13,
   "id": "dc1adabc",
   "metadata": {},
   "outputs": [
    {
     "name": "stdout",
     "output_type": "stream",
     "text": [
      "{'Comedy': 2, 'Drama': 2, 'Biography': 1, 'Thriller': 1}\n"
     ]
    }
   ],
   "source": [
    "# Calcula a distribuição de filmes por Género:\n",
    "def filmePorGenero( cinemateca ):\n",
    "    res = {}\n",
    "    for filme in cinemateca:\n",
    "        for genero in filme[3]:\n",
    "            if genero in res:\n",
    "                res[genero] = res[genero] + 1\n",
    "            else:\n",
    "                res[genero] = 1\n",
    "    return res\n",
    "\n",
    "print(filmePorGenero(CineUM))"
   ]
  },
  {
   "cell_type": "markdown",
   "id": "de46a635",
   "metadata": {},
   "source": [
    "### tpc2.e)  Represente num gráfico de barras a distribuição calculada na alínea anterior (pode usar o material que entender das aulas):"
   ]
  },
  {
   "cell_type": "code",
   "execution_count": 14,
   "id": "4118730d",
   "metadata": {},
   "outputs": [
    {
     "data": {
      "image/png": "[encoded data removed]",
      "text/plain": [
       "<Figure size 640x480 with 1 Axes>"
      ]
     },
     "metadata": {},
     "output_type": "display_data"
    }
   ],
   "source": [
    "# Represente num gráfico de barras a distribuição calculada na alínea anterior (pode usar o material que entender das aulas):\n",
    "import matplotlib.pyplot as plt\n",
    "\n",
    "def filmePorGenero( cinemateca ):\n",
    "    res = {}\n",
    "    for filme in cinemateca:\n",
    "        for genero in filme[3]:\n",
    "            if genero in res:\n",
    "                res[genero] = res[genero] + 1\n",
    "            else:\n",
    "                res[genero] = 1\n",
    "    return res\n",
    "\n",
    "def graficoBarras(distribuicao):\n",
    "    plt.bar(range(len(distribuicao)), distribuicao.values(), align='center')\n",
    "    plt.xticks(range(len(distribuicao)), list(distribuicao.keys()))\n",
    "    plt.show()\n",
    "\n",
    "graficoBarras(filmePorGenero(CineUM))"
   ]
  }
 ],
 "metadata": {
  "kernelspec": {
   "display_name": "Python 3",
   "language": "python",
   "name": "python3"
  },
  "language_info": {
   "codemirror_mode": {
    "name": "ipython",
    "version": 3
   },
   "file_extension": ".py",
   "mimetype": "text/x-python",
   "name": "python",
   "nbconvert_exporter": "python",
   "pygments_lexer": "ipython3",
   "version": "3.11.0"
  },
  "vscode": {
   "interpreter": {
    "hash": "0b9832f27c5ea70394679bd537127f43581f6b20574434b483f64b86bb1b3379"
   }
  }
 },
 "nbformat": 4,
 "nbformat_minor": 5
}

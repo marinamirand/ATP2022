{
 "cells": [
  {
   "cell_type": "code",
   "execution_count": 2,
   "metadata": {},
   "outputs": [
    {
     "ename": "FileNotFoundError",
     "evalue": "[Errno 2] No such file or directory: '../Desktop/alunos.csv'",
     "output_type": "error",
     "traceback": [
      "\u001b[0;31m---------------------------------------------------------------------------\u001b[0m",
      "\u001b[0;31mFileNotFoundError\u001b[0m                         Traceback (most recent call last)",
      "Cell \u001b[0;32mIn [2], line 3\u001b[0m\n\u001b[1;32m      1\u001b[0m \u001b[39mimport\u001b[39;00m \u001b[39malunos\u001b[39;00m \n\u001b[0;32m----> 3\u001b[0m myAlunos \u001b[39m=\u001b[39m alunos\u001b[39m.\u001b[39mreadDataset(\u001b[39m\"\u001b[39m\u001b[39m../Desktop/alunos.csv\u001b[39m\u001b[39m\"\u001b[39m)\n\u001b[1;32m      4\u001b[0m myAlunos1 \u001b[39m=\u001b[39m alunos\u001b[39m.\u001b[39mmediaporAluno (myAlunos)\n\u001b[1;32m      5\u001b[0m myAlunos2 \u001b[39m=\u001b[39m alunos\u001b[39m.\u001b[39malunoporEscalao (myAlunos1)\n",
      "File \u001b[0;32m~/Desktop/TPC/TPC7/alunos.py:5\u001b[0m, in \u001b[0;36mreadDataset\u001b[0;34m(alunos)\u001b[0m\n\u001b[1;32m      4\u001b[0m \u001b[39mdef\u001b[39;00m \u001b[39mreadDataset\u001b[39m (alunos):\n\u001b[0;32m----> 5\u001b[0m     f \u001b[39m=\u001b[39m \u001b[39mopen\u001b[39;49m (alunos, encoding\u001b[39m=\u001b[39;49m\u001b[39m'\u001b[39;49m\u001b[39mutf-8\u001b[39;49m\u001b[39m'\u001b[39;49m)\n\u001b[1;32m      6\u001b[0m     f\u001b[39m.\u001b[39mreadline() \n\u001b[1;32m      7\u001b[0m     csv_reader \u001b[39m=\u001b[39mcsv\u001b[39m.\u001b[39mreader (f, delimiter \u001b[39m=\u001b[39m \u001b[39m'\u001b[39m\u001b[39m,\u001b[39m\u001b[39m'\u001b[39m)\n",
      "\u001b[0;31mFileNotFoundError\u001b[0m: [Errno 2] No such file or directory: '../Desktop/alunos.csv'"
     ]
    }
   ],
   "source": [
    "import alunos \n",
    "\n",
    "myAlunos = alunos.readDataset(\"../Desktop/alunos.csv\")\n",
    "myAlunos1 = alunos.mediaporAluno (myAlunos)\n",
    "myAlunos2 = alunos.alunoporEscalao (myAlunos1)\n"
   ]
  },
  {
   "cell_type": "code",
   "execution_count": null,
   "metadata": {},
   "outputs": [],
   "source": [
    "alunosporcurso = alunos.aluPorCurso (myAlunos)\n",
    "print (alunosporcurso)"
   ]
  },
  {
   "cell_type": "code",
   "execution_count": null,
   "metadata": {},
   "outputs": [],
   "source": [
    "mediaporaluno = alunos.mediaporAluno (myAlunos)\n",
    "print (mediaporaluno)"
   ]
  },
  {
   "cell_type": "code",
   "execution_count": null,
   "metadata": {},
   "outputs": [],
   "source": [
    "alunoporescalao = alunos.alunoporEscalao (myAlunos1)\n",
    "print (alunoporescalao)"
   ]
  },
  {
   "cell_type": "code",
   "execution_count": null,
   "metadata": {},
   "outputs": [],
   "source": [
    "graficoAlunosporAno = alunos.desenhargrafico (myAlunos2)"
   ]
  },
  {
   "cell_type": "code",
   "execution_count": null,
   "metadata": {},
   "outputs": [],
   "source": [
    "tabela = alunos.tabela (myAlunos1)\n",
    "print(tabela)"
   ]
  },
  {
   "cell_type": "code",
   "execution_count": null,
   "metadata": {},
   "outputs": [],
   "source": [
    "Menu = alunos.menu (myAlunos2)\n",
    "print (Menu)"
   ]
  }
 ],
 "metadata": {
  "kernelspec": {
   "display_name": "Python 3.10.8 64-bit",
   "language": "python",
   "name": "python3"
  },
  "language_info": {
   "codemirror_mode": {
    "name": "ipython",
    "version": 3
   },
   "file_extension": ".py",
   "mimetype": "text/x-python",
   "name": "python",
   "nbconvert_exporter": "python",
   "pygments_lexer": "ipython3",
   "version": "3.10.8"
  },
  "orig_nbformat": 4,
  "vscode": {
   "interpreter": {
    "hash": "aee8b7b246df8f9039afb4144a1f6fd8d2ca17a180786b69acc140d282b71a49"
   }
  }
 },
 "nbformat": 4,
 "nbformat_minor": 2
}
